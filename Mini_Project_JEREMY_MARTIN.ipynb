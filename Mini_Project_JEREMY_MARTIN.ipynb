{
 "cells": [
  {
   "cell_type": "markdown",
   "id": "4773e0ad-580a-4b56-9b8f-390132d6a629",
   "metadata": {},
   "source": [
    "# Key Factors Influencing Road Accidents in Belgium and Policies for Mitigation"
   ]
  },
  {
   "cell_type": "markdown",
   "id": "48694a3f-4622-46c8-99b2-1f78ce575adc",
   "metadata": {},
   "source": [
    "#### Jérémy Martin\n",
    "#### 2025-03-15"
   ]
  },
  {
   "cell_type": "markdown",
   "id": "39487f80-dee8-45db-bfa9-b4db1734b6aa",
   "metadata": {},
   "source": [
    "## Introduction"
   ]
  },
  {
   "cell_type": "markdown",
   "id": "daaf8944-08ed-461b-9a50-40e785acfee3",
   "metadata": {},
   "source": [
    "### The Global Burden of Road Accidents"
   ]
  },
  {
   "cell_type": "markdown",
   "id": "733e9d4a-a48a-4ac6-9249-e8de414970c0",
   "metadata": {},
   "source": [
    "Road traffic accidents are a significant public health and economic issue worldwide. According to the World Health Organization (*WHO, 2023*), approximately **1.35 million people** die each year as a result of road crashes, and between **20 to 50 million** more suffer non-fatal injuries, often resulting in long-term disabilities.\n",
    "\n",
    "Beyond the human cost, road accidents impose **substantial economic burdens**, estimated at **3% of global GDP** due to medical expenses, loss of productivity, and infrastructure damage (*WHO, 2023*). These challenges are particularly pressing in urbanized and densely populated countries, where increasing vehicle ownership and traffic congestion contribute to road safety risks.\n",
    "\n",
    "In Europe, road safety policies have successfully reduced fatalities over the past two decades, yet disparities remain between countries and regions. Belgium, as a Western European country with a highly developed road network, faces **persistent challenges** in reducing traffic accidents, particularly in urban areas and among vulnerable road users."
   ]
  },
  {
   "cell_type": "markdown",
   "id": "462bf230-861d-401b-a2dc-9e10d76d0d20",
   "metadata": {},
   "source": [
    "### Road Accidents in Belgium: The Need for Data-Driven Policies"
   ]
  },
  {
   "cell_type": "markdown",
   "id": "c708c499-95ec-4d4c-aca0-c6574f963d75",
   "metadata": {},
   "source": [
    "Belgium has made considerable progress in road safety, but the Federal Public Service (FPS) for Mobility and Transport reported that in 2022, road accidents still resulted in **over 50,000 injuries and fatalities**. Despite strict traffic regulations, factors such as speeding, road conditions, weather conditions, time of day, and collision type continue to play a role in accident severity.\n",
    "\n",
    "Understanding these determinants is essential for designing effective traffic regulations, road infrastructure improvements, and targeted enforcement strategies. Policymakers require **empirical, data-driven research** to optimize resources and implement measures that **maximize road safety impact**."
   ]
  },
  {
   "cell_type": "markdown",
   "id": "c2edb847-3826-49d3-81ca-299419f18ff1",
   "metadata": {},
   "source": [
    "### Literature Review: Key Factors affecting Road Accidents"
   ]
  },
  {
   "cell_type": "markdown",
   "id": "d0b84978-38c6-4e10-8936-19ba9cc2c551",
   "metadata": {},
   "source": [
    "The study of road accidents has been an essential area of research in transportation safety, with scholars investigating the various factors that contribute to accident occurrence and severity. The literature identifies multiple key determinants, including time of occurrence, road conditions, collision type, driver impairment, and methodological approaches to accident modeling.\n",
    "\n",
    "One of the most well-documented factors influencing accident severity is the time of occurrence, particularly differences between daytime and nighttime crashes. Research has consistently shown that nighttime and weekend accidents tend to be more severe due to reduced visibility, higher speeds, and increased incidence of impaired driving. Studies have found that impaired vision and fatigue at night lead to delayed reaction times, which can exacerbate the severity of crashes. Moreover, peak traffic congestion during rush hours contributes to a high frequency of accidents, although these tend to be less severe compared to high-speed crashes occurring at night (*Elvik, 2013*).\n",
    "\n",
    "Road and environmental conditions also play a significant role in both accident frequency and severity. Highways and regional roads, due to their higher speed limits, often experience more severe crashes, whereas urban roads tend to have a higher frequency of accidents but lower severity due to reduced speeds and greater congestion. Research suggests that well-lit roads help mitigate accident risks, particularly at night, as street lighting has been shown to significantly reduce crash rates and improve driver visibility (*Sullivan & Flannagan, 2002*). In contrast, adverse weather conditions such as rain and fog increase accident risks due to reduced traction and limited visibility, leading to a greater likelihood of multi-vehicle collisions.\n",
    "\n",
    "Another critical determinant is collision type, as different types of crashes exhibit varying levels of severity. Studies indicate that head-on collisions and side-impact crashes result in the highest fatality rates, whereas rear-end crashes, while frequent, are generally less severe due to lower impact forces (*Zou et al., 2017*). The nature of the collision is closely related to road design, with intersections being high-risk locations for side-impact crashes, while highways experience more frontal collisions due to overtaking and high-speed maneuvers.\n",
    "\n",
    "The state of the driver is an equally important factor in accident severity. Alcohol consumption has been widely recognized as a leading contributor to road fatalities, as intoxicated drivers exhibit reduced cognitive abilities, slower reaction times, and impaired motor control. Studies show that the risk of severe injury or death increases significantly with higher blood alcohol concentrations, reinforcing the importance of strict drink-driving laws and enforcement (*WHO, 2023*). Beyond alcohol, other impairments such as fatigue, drowsiness, and medical conditions have also been found to influence accident risk. Research highlights that drivers with certain health conditions, such as sleep apnea or neurological disorders, are more likely to be involved in high-severity crashes, emphasizing the need for regular medical screenings for at-risk individuals (*Haque et al., 2012*).\n",
    "\n",
    "In terms of statistical methodologies, **Poisson and Negative Binomial regression models** have been widely used in road accident analysis due to their suitability for **count data**. Poisson regression is particularly useful when modeling accident frequencies, as it assumes that the mean and variance of accident counts are equal, making it an appropriate choice when analyzing crash occurrence rates. However, when overdispersion is present (meaning the variance exceeds the mean), Negative Binomial regression is preferred as it accounts for additional variability in accident data (*Lord et al., 2005*). **Logistic regression models** have also been frequently applied to predict accident severity, particularly when categorizing outcomes as fatal or non-fatal. The choice of statistical model is crucial for deriving reliable insights, as improper modeling can lead to biased estimates and incorrect policy implications.\n",
    "\n",
    "This literature review establishes that road accidents are a **multifaceted issue** influenced by temporal, environmental, vehicular, and human factors. It also underscores the importance of appropriate statistical modeling in drawing meaningful conclusions from accident data."
   ]
  },
  {
   "cell_type": "markdown",
   "id": "937536bd-ac50-4390-bd78-d0e674ca2c4a",
   "metadata": {},
   "source": [
    "Despite extensive research on road accidents, gaps remain in the literature, particularly in region-specific studies analyzing localized traffic patterns and risk factors. In the Belgian context, there is a need for empirical research examining how road type, time of occurrence, and collision type interact to influence accident frequency. This study seeks to answer the following research question: *What are the key factors influencing the occurrence of road accidents in Belgium, and how do these factors affect accident risk?*\n",
    "\n",
    "By leveraging empirical evidence from actual accident reports, this research will assist policymakers, urban planners, and law enforcement agencies in designing targeted interventions to reduce the incidence of road accidents in Belgium."
   ]
  },
  {
   "cell_type": "markdown",
   "id": "e289a514-00d2-4f29-b763-79d064d7132f",
   "metadata": {},
   "source": [
    "### Research Question & Objectives of this Study"
   ]
  },
  {
   "cell_type": "markdown",
   "id": "a39f2c83-2233-4aae-bddf-f438cce6a282",
   "metadata": {},
   "source": [
    "Despite extensive research on road accidents, gaps remain in the literature, particularly in region-specific studies analyzing localized traffic patterns and risk factors. In the Belgian context, there is a need for empirical research examining how road type, time of occurrence, and collision type interact to influence accident frequency. This study seeks to answer the following research question: *What are the key factors influencing the occurrence of road accidents in Belgium, and how do these factors affect accident risk?*\n",
    "\n",
    "By leveraging empirical evidence from actual accident reports, this research will assist policymakers, urban planners, and law enforcement agencies in designing targeted interventions to reduce the incidence of road accidents in Belgium."
   ]
  },
  {
   "cell_type": "markdown",
   "id": "6c7b7299-3952-40aa-9602-c7eb5179930c",
   "metadata": {},
   "source": [
    "### Overview of Datas"
   ]
  },
  {
   "cell_type": "markdown",
   "id": "d7d66650-0d67-4404-b20f-f96c02d5db1c",
   "metadata": {},
   "source": [
    "The dataset used in this study is the *TF_ACCIDENTS_2023* open dataset from the official statistics website of the Belgian government. It contains detailed records of road accidents that occurred in Belgium in 2023, providing crucial information on the time, location, road conditions, collision types, and severity of accidents. This makes it highly relevant for analyzing the factors influencing accident frequency.\n",
    "\n",
    "Given the research question, this dataset is particularly suitable as it enables the examination of accident occurrence patterns and the assessment of how environmental and temporal factors contribute to road safety risks."
   ]
  },
  {
   "cell_type": "markdown",
   "id": "70bfbabf-0212-49cf-987a-cbf580db92fe",
   "metadata": {},
   "source": [
    "## Data Exploration & Preparation"
   ]
  },
  {
   "cell_type": "markdown",
   "id": "c28911ef-326b-4328-a425-a6202ad44664",
   "metadata": {},
   "source": [
    "As mentionned, the dataset used in this study is the *TF_ACCIDENTS_2023* dataset, which provides a comprehensive record of road accidents that occurred in Belgium in 2023. The data is sourced from the official statistics website of the Belgian government, ensuring reliability and consistency in accident reporting. It contains **36,689 observations**, making it a robust dataset for analyzing accident frequency and identifying key risk factors.\n",
    "\n",
    "This dataset include a wide range of variables (35) that capture different aspects of each recorded accident. Key variables include:\n",
    "\n",
    "- **Temporal Factors:** *DT_HOUR* (hour of the accident), *CD_DAY_OF_WEEK* (day of the week), and *FL_WEEKEND* (indicator for weekend accidents).\n",
    "- **Road and Environmental Conditions:** *CD_ROAD_TYPE* (type of road where the accident occurred), *CD_LIGHT_CONDITION* (lighting conditions at the time of the accident).\n",
    "- **Collision Characteristics:** *CD_COLLISION_TYPE* (type of collision, e.g., frontal, rear-end, side-impact).\n",
    "- **Accident Severity Indicators:** *MS_ACCT* (total number of recorded accidents).\n",
    "\n",
    "Given the dataset’s granularity, it enables a detailed examination of accident patterns, allowing for the identification of high-risk periods, locations, and road conditions."
   ]
  },
  {
   "cell_type": "markdown",
   "id": "a79880c3-0e46-47e2-b317-22c0ca66fd8a",
   "metadata": {},
   "source": [
    "### Exploratory Data Analysis"
   ]
  },
  {
   "cell_type": "markdown",
   "id": "5b754873-901b-4daa-b540-ef69822179ee",
   "metadata": {},
   "source": [
    "Let's import our dataset."
   ]
  },
  {
   "cell_type": "code",
   "execution_count": 4,
   "id": "aa803cbd-8574-4e0d-8581-96479ed22874",
   "metadata": {},
   "outputs": [],
   "source": [
    "import pandas as pd\n",
    "\n",
    "d = pd.read_excel(\"TF_ACCIDENTS_2023.xlsx\")"
   ]
  },
  {
   "cell_type": "markdown",
   "id": "e2d749c1-ed58-4d25-abe2-297bd76355ea",
   "metadata": {},
   "source": [
    "The dataset primarily consists of categorical variables, which are already encoded in distinct columns. These variables are provided in both French and Dutch, as both languages are spoken in Belgium. To begin the assessment of this database, we will remove the Dutch columns to make it more lightweight."
   ]
  },
  {
   "cell_type": "code",
   "execution_count": 5,
   "id": "755ee38f-a8b2-428f-a27f-4ad1a905d2e3",
   "metadata": {},
   "outputs": [],
   "source": [
    "d_french = d.loc[:, ~d.columns.str.endswith(\"NL\")]"
   ]
  },
  {
   "cell_type": "markdown",
   "id": "88a0ea0a-650e-438d-873f-5997eb374e85",
   "metadata": {},
   "source": [
    "The dataset now contains 26 variables instead of 35. A dictionary listing the correspondence between categorical variables and their encoded meanings is provided in **Appendix 1**.\n",
    "\n",
    "Since our sample is large enough, we will remove any observations with missing values in at least one variable to ensure the continuity of the analysis."
   ]
  },
  {
   "cell_type": "code",
   "execution_count": 6,
   "id": "c2eb1d27-d81a-4cc3-a81d-b307e0b774eb",
   "metadata": {},
   "outputs": [],
   "source": [
    "d_clean = d_french.dropna()"
   ]
  },
  {
   "cell_type": "markdown",
   "id": "be23ef5b-87dd-47da-8f48-e21d602e2485",
   "metadata": {},
   "source": [
    "The dataset now contains 25,279 observations instead of 36,689."
   ]
  }
 ],
 "metadata": {
  "kernelspec": {
   "display_name": "Python 3 (ipykernel)",
   "language": "python",
   "name": "python3"
  },
  "language_info": {
   "codemirror_mode": {
    "name": "ipython",
    "version": 3
   },
   "file_extension": ".py",
   "mimetype": "text/x-python",
   "name": "python",
   "nbconvert_exporter": "python",
   "pygments_lexer": "ipython3",
   "version": "3.13.1"
  }
 },
 "nbformat": 4,
 "nbformat_minor": 5
}
